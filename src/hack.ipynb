{
 "cells": [
  {
   "cell_type": "code",
   "execution_count": 27,
   "metadata": {},
   "outputs": [
    {
     "name": "stdout",
     "output_type": "stream",
     "text": [
      "/global/cscratch1/sd/forero/decals_fiberaassign_hack/src\n"
     ]
    }
   ],
   "source": [
    "# Reuses some info from Stephen Bailey shared on [desi-data 3401] \"running fiber assignment on a real target catalog\"\n",
    "import os\n",
    "import subprocess\n",
    "from astropy.table import Table\n",
    "import numpy as np\n",
    "from desitarget.targetmask import desi_mask, bgs_mask, mws_mask, obsmask, obsconditions\n",
    "import fitsio\n",
    "\n",
    "os.environ['DECALS_PATH'] = '/global/project/projectdirs/cosmo/data/legacysurvey/dr6/'\n",
    "minitestdir = os.getcwd()\n",
    "minitestdata = minitestdir.replace('src', 'data')\n",
    "targetfile = os.path.join(minitestdata, 'dr6_targets.fits')\n",
    "print(minitestdir)"
   ]
  },
  {
   "cell_type": "code",
   "execution_count": 2,
   "metadata": {},
   "outputs": [
    {
     "name": "stdout",
     "output_type": "stream",
     "text": [
      "select_targets /global/project/projectdirs/cosmo/data/legacysurvey/dr6/ /global/cscratch1/sd/forero/decals_fiberaassign_hack/data/dr6_targets.fits\n"
     ]
    }
   ],
   "source": [
    "cmd = \"select_targets {source} {destination}\"\n",
    "cmd = cmd.format(source=os.environ['DECALS_PATH'], destination=targetfile)\n",
    "print(cmd)"
   ]
  },
  {
   "cell_type": "code",
   "execution_count": 27,
   "metadata": {},
   "outputs": [
    {
     "data": {
      "text/plain": [
       "0"
      ]
     },
     "execution_count": 27,
     "metadata": {},
     "output_type": "execute_result"
    }
   ],
   "source": [
    "subprocess.call(cmd.split())"
   ]
  },
  {
   "cell_type": "code",
   "execution_count": 28,
   "metadata": {},
   "outputs": [],
   "source": [
    "columns = [\n",
    "    'TARGETID', 'RA', 'DEC', 'SUBPRIORITY', 'BRICKNAME',\n",
    "    'DESI_TARGET', 'BGS_TARGET', 'MWS_TARGET',\n",
    "]\n",
    "targetdata = fitsio.read(targetfile, 'TARGETS', columns=columns)"
   ]
  },
  {
   "cell_type": "code",
   "execution_count": 31,
   "metadata": {},
   "outputs": [
    {
     "data": {
      "text/plain": [
       "array([ (b'1475p292',  147.57113435,  29.23259145,  0.43693441, 26390344471937029, 1152921504606846976, 131074, 0),\n",
       "       (b'1475p292',  147.47009862,  29.23390583,  0.41970843, 26390344471937031, 1152921504606846976, 131074, 0),\n",
       "       (b'1475p292',  147.44487668,  29.23485253,  0.34180474, 26390344471937032, 1152921504606846976, 131074, 0),\n",
       "       (b'1475p292',  147.44442566,  29.23472314,  0.98543102, 26390344471937034, 1152921504606846976, 131074, 0),\n",
       "       (b'1475p292',  147.50860877,  29.23243401,  0.46081674, 26390344471937039, 1152921504606846976, 131074, 0),\n",
       "       (b'1475p292',  147.48878798,  29.23705999,  0.63215601, 26390344471937071, 1152921504606846976, 131074, 0),\n",
       "       (b'1475p292',  147.64479256,  29.23732863,  0.41369352, 26390344471937081, 1152921504606846976,  65537, 0),\n",
       "       (b'1475p292',  147.4307453 ,  29.23938314,  0.34730127, 26390344471937104, 1152921504606846976, 131074, 0),\n",
       "       (b'1475p292',  147.44969646,  29.24107448,  0.02729205, 26390344471937122, 1152921504606846976, 131074, 0),\n",
       "       (b'1475p292',  147.46927465,  29.2417864 ,  0.29665068, 26390344471937136, 1152921504606846976,  65537, 0)],\n",
       "      dtype=[('BRICKNAME', 'S8'), ('RA', '>f8'), ('DEC', '>f8'), ('SUBPRIORITY', '>f4'), ('TARGETID', '>i8'), ('DESI_TARGET', '>i8'), ('BGS_TARGET', '>i8'), ('MWS_TARGET', '>i8')])"
      ]
     },
     "execution_count": 31,
     "metadata": {},
     "output_type": "execute_result"
    }
   ],
   "source": [
    "targetdata[:10]"
   ]
  },
  {
   "cell_type": "code",
   "execution_count": 32,
   "metadata": {},
   "outputs": [
    {
     "name": "stdout",
     "output_type": "stream",
     "text": [
      "MWS_TARGETS: 0\n",
      "BGS_TARGETS: 13139177\n",
      "DESI_TARGETS: 25887442\n"
     ]
    }
   ],
   "source": [
    "print('MWS_TARGETS: {}'.format(np.count_nonzero(targetdata['MWS_TARGET']!=0)))\n",
    "print('BGS_TARGETS: {}'.format(np.count_nonzero(targetdata['BGS_TARGET']!=0)))\n",
    "print('DESI_TARGETS: {}'.format(np.count_nonzero(targetdata['DESI_TARGET']!=0)))"
   ]
  },
  {
   "cell_type": "code",
   "execution_count": 38,
   "metadata": {},
   "outputs": [],
   "source": [
    "#(Here I use sky.py to generate the sky positions file)"
   ]
  },
  {
   "cell_type": "code",
   "execution_count": 33,
   "metadata": {},
   "outputs": [
    {
     "name": "stdout",
     "output_type": "stream",
     "text": [
      "ELG 9806142\n",
      "QSO 1145240\n",
      "LRG 2137370\n"
     ]
    }
   ],
   "source": [
    "print('ELG {}'.format(np.count_nonzero((targetdata['DESI_TARGET']&desi_mask.ELG)!=0)))\n",
    "print('QSO {}'.format(np.count_nonzero((targetdata['DESI_TARGET']&desi_mask.QSO)!=0)))\n",
    "print('LRG {}'.format(np.count_nonzero((targetdata['DESI_TARGET']&desi_mask.LRG)!=0)))"
   ]
  },
  {
   "cell_type": "code",
   "execution_count": 34,
   "metadata": {},
   "outputs": [
    {
     "name": "stdout",
     "output_type": "stream",
     "text": [
      "BGS_FAINT 3341902\n",
      "BGS_BRIGHT 9797275\n"
     ]
    }
   ],
   "source": [
    "print('BGS_FAINT {}'.format(np.count_nonzero((targetdata['BGS_TARGET']&bgs_mask.BGS_FAINT)!=0)))\n",
    "print('BGS_BRIGHT {}'.format(np.count_nonzero((targetdata['BGS_TARGET']&bgs_mask.BGS_BRIGHT)!=0)))\n"
   ]
  },
  {
   "cell_type": "code",
   "execution_count": 35,
   "metadata": {},
   "outputs": [
    {
     "name": "stdout",
     "output_type": "stream",
     "text": [
      "83031 dark standards\n",
      "18450 bright standards\n"
     ]
    }
   ],
   "source": [
    "darkstd = (targetdata['DESI_TARGET'] & desi_mask.mask('STD_FSTAR|STD_WD')) != 0\n",
    "brightstd = (targetdata['DESI_TARGET'] & desi_mask.mask('STD_BRIGHT')) != 0\n",
    "print('{} dark standards'.format(np.count_nonzero(darkstd)))\n",
    "print('{} bright standards'.format(np.count_nonzero(brightstd)))"
   ]
  },
  {
   "cell_type": "code",
   "execution_count": 11,
   "metadata": {},
   "outputs": [
    {
     "name": "stdout",
     "output_type": "stream",
     "text": [
      "INFO:mtl.py:82:make_mtl: 88724 of 25887442 targets have priority zero, setting N_obs=0.\n"
     ]
    }
   ],
   "source": [
    "import desitarget.mtl\n",
    "mtl = desitarget.mtl.make_mtl(targetdata)\n",
    "mtl.meta['EXTNAME'] = 'MTL'\n",
    "mtl.write('../data/mtl.fits')"
   ]
  },
  {
   "cell_type": "code",
   "execution_count": 36,
   "metadata": {},
   "outputs": [],
   "source": [
    "darkstd = (targetdata['DESI_TARGET'] & desi_mask.mask('STD_FSTAR|STD_WD')) != 0\n",
    "brightstd = (targetdata['DESI_TARGET'] & desi_mask.mask('STD_BRIGHT')) != 0"
   ]
  },
  {
   "cell_type": "code",
   "execution_count": 37,
   "metadata": {},
   "outputs": [
    {
     "name": "stdout",
     "output_type": "stream",
     "text": [
      "83031\n",
      "18450\n"
     ]
    }
   ],
   "source": [
    "print(np.count_nonzero(darkstd))\n",
    "print(np.count_nonzero(brightstd))"
   ]
  },
  {
   "cell_type": "code",
   "execution_count": 38,
   "metadata": {},
   "outputs": [],
   "source": [
    "darkdata = targetdata[darkstd]\n",
    "obscond = np.zeros(len(darkdata), dtype=np.int64)\n",
    "darkdata = np.lib.recfunctions.append_fields(\n",
    "    darkdata, 'OBSCONDITIONS', obscond)\n",
    "fitsio.write('../data/std-dark.fits', darkdata, extname='STD')"
   ]
  },
  {
   "cell_type": "code",
   "execution_count": 39,
   "metadata": {},
   "outputs": [],
   "source": [
    "brightdata = targetdata[brightstd]\n",
    "obscond = np.zeros(len(brightdata), dtype=np.int64)\n",
    "brightdata = np.lib.recfunctions.append_fields(\n",
    "    brightdata, 'OBSCONDITIONS', obscond)\n",
    "fitsio.write('../data/std-bright.fits', brightdata, extname='STD')"
   ]
  },
  {
   "cell_type": "code",
   "execution_count": null,
   "metadata": {},
   "outputs": [],
   "source": []
  },
  {
   "cell_type": "code",
   "execution_count": 40,
   "metadata": {},
   "outputs": [],
   "source": [
    "import desimodel.io\n",
    "tiles = desimodel.io.load_tiles()\n",
    "dx = open('../data/dark-tiles.txt', 'w')\n",
    "bx = open('../data/bright-tiles.txt', 'w')\n",
    "for tileid, program  in zip(tiles['TILEID'], tiles['PROGRAM']):\n",
    "    if program == 'BRIGHT':\n",
    "        bx.write(str(tileid)+'\\n')\n",
    "    else:\n",
    "        dx.write(str(tileid)+'\\n')\n",
    "\n",
    "dx.close()\n",
    "bx.close()"
   ]
  },
  {
   "cell_type": "code",
   "execution_count": 41,
   "metadata": {},
   "outputs": [],
   "source": [
    "#run fiberassign"
   ]
  },
  {
   "cell_type": "code",
   "execution_count": 45,
   "metadata": {},
   "outputs": [],
   "source": [
    "cmd = \"fiberassign --mtl data/mtl.fits \"\n",
    "cmd += \"--sky data/dense_sky.fits --stdstar data/std-bright.fits \"\n",
    "cmd += \"--footprint /global/common/cori/contrib/desi/desiconda/20170613-1.1.4-spectro/code/desimodel/0.9.0/data/footprint/desi-tiles.fits \" \n",
    "cmd += \"surveytiles data/bright-tiles.txt --positioners /global/common/cori/contrib/desi/desiconda/20170613-1.1.4-spectro/code/desimodel/0.9.0/data/focalplane/fiberpos.txt \"\n",
    "cmd += \"--fibstatusfile data/fiberstatus.ecsv --outdir output/bright/\"\n",
    "\n"
   ]
  },
  {
   "cell_type": "code",
   "execution_count": 46,
   "metadata": {},
   "outputs": [
    {
     "data": {
      "text/plain": [
       "'fiberassign --mtl data/mtl.fits --sky data/dense_sky.fits --stdstar data/std-bright.fits --footprint /global/common/cori/contrib/desi/desiconda/20170613-1.1.4-spectro/code/desimodel/0.9.0/data/footprint/desi-tiles.fits surveytiles data/bright-tiles.txt --positioners /global/common/cori/contrib/desi/desiconda/20170613-1.1.4-spectro/code/desimodel/0.9.0/data/focalplane/fiberpos.txt --fibstatusfile data/fiberstatus.ecsv --outdir output/bright/'"
      ]
     },
     "execution_count": 46,
     "metadata": {},
     "output_type": "execute_result"
    }
   ],
   "source": [
    "subprocess.call(cmd.split())"
   ]
  },
  {
   "cell_type": "code",
   "execution_count": null,
   "metadata": {},
   "outputs": [],
   "source": [
    "cmd = \"fiberassign --mtl data/mtl.fits \"\n",
    "cmd += \"--sky data/dense_sky.fits --stdstar data/std-dark.fits \"\n",
    "cmd += \"--footprint /global/common/cori/contrib/desi/desiconda/20170613-1.1.4-spectro/code/desimodel/0.9.0/data/footprint/desi-tiles.fits \" \n",
    "cmd += \"surveytiles data/dark-tiles.txt --positioners /global/common/cori/contrib/desi/desiconda/20170613-1.1.4-spectro/code/desimodel/0.9.0/data/focalplane/fiberpos.txt \"\n",
    "cmd += \"--fibstatusfile data/fiberstatus.ecsv --outdir output/dark/\"\n"
   ]
  }
 ],
 "metadata": {
  "kernelspec": {
   "display_name": "DESI master",
   "language": "python",
   "name": "desi-master"
  },
  "language_info": {
   "codemirror_mode": {
    "name": "ipython",
    "version": 3
   },
   "file_extension": ".py",
   "mimetype": "text/x-python",
   "name": "python",
   "nbconvert_exporter": "python",
   "pygments_lexer": "ipython3",
   "version": "3.6.4"
  }
 },
 "nbformat": 4,
 "nbformat_minor": 2
}
