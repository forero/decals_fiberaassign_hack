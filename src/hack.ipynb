{
 "cells": [
  {
   "cell_type": "code",
   "execution_count": 33,
   "metadata": {},
   "outputs": [
    {
     "name": "stdout",
     "output_type": "stream",
     "text": [
      "/global/cscratch1/sd/forero/decals_fiberaassign_hack/src\n"
     ]
    }
   ],
   "source": [
    "import os\n",
    "import subprocess\n",
    "from astropy.table import Table\n",
    "import numpy as np\n",
    "os.environ['DECALS_PATH'] = '/global/project/projectdirs/cosmo/data/legacysurvey/dr6/'\n",
    "minitestdir = os.getcwd()\n",
    "minitestdata = minitestdir.replace('src', 'data')\n",
    "targetfile = os.path.join(minitestdata, 'dr6_targets.fits')\n",
    "print(minitestdir)"
   ]
  },
  {
   "cell_type": "code",
   "execution_count": 26,
   "metadata": {},
   "outputs": [
    {
     "name": "stdout",
     "output_type": "stream",
     "text": [
      "select_targets /global/project/projectdirs/cosmo/data/legacysurvey/dr6/ /global/cscratch1/sd/forero/decals_fiberaassign_hack/data/dr6_targets.fits\n"
     ]
    }
   ],
   "source": [
    "cmd = \"select_targets {source} {destination}\"\n",
    "cmd = cmd.format(source=os.environ['DECALS_PATH'], destination=targetfile)\n",
    "print(cmd)"
   ]
  },
  {
   "cell_type": "code",
   "execution_count": 27,
   "metadata": {},
   "outputs": [
    {
     "data": {
      "text/plain": [
       "0"
      ]
     },
     "execution_count": 27,
     "metadata": {},
     "output_type": "execute_result"
    }
   ],
   "source": [
    "subprocess.call(cmd.split())"
   ]
  },
  {
   "cell_type": "code",
   "execution_count": 29,
   "metadata": {},
   "outputs": [],
   "source": [
    "targetdata = Table.read(targetfile)"
   ]
  },
  {
   "cell_type": "code",
   "execution_count": 31,
   "metadata": {},
   "outputs": [
    {
     "data": {
      "text/html": [
       "&lt;Table length=10&gt;\n",
       "<table id=\"table46913173384384\" class=\"table-striped table-bordered table-condensed\">\n",
       "<thead><tr><th>RELEASE</th><th>BRICKID</th><th>BRICKNAME</th><th>BRICK_OBJID</th><th>TYPE</th><th>RA</th><th>DEC</th><th>RA_IVAR</th><th>DEC_IVAR</th><th>DCHISQ [5]</th><th>FLUX_G</th><th>FLUX_R</th><th>FLUX_Z</th><th>FLUX_W1</th><th>FLUX_W2</th><th>FLUX_W3</th><th>FLUX_W4</th><th>FLUX_IVAR_G</th><th>FLUX_IVAR_R</th><th>FLUX_IVAR_Z</th><th>FLUX_IVAR_W1</th><th>FLUX_IVAR_W2</th><th>FLUX_IVAR_W3</th><th>FLUX_IVAR_W4</th><th>MW_TRANSMISSION_G</th><th>MW_TRANSMISSION_R</th><th>MW_TRANSMISSION_Z</th><th>MW_TRANSMISSION_W1</th><th>MW_TRANSMISSION_W2</th><th>MW_TRANSMISSION_W3</th><th>MW_TRANSMISSION_W4</th><th>NOBS_G</th><th>NOBS_R</th><th>NOBS_Z</th><th>FRACFLUX_G</th><th>FRACFLUX_R</th><th>FRACFLUX_Z</th><th>ALLMASK_G</th><th>ALLMASK_R</th><th>ALLMASK_Z</th><th>PSFDEPTH_G</th><th>PSFDEPTH_R</th><th>PSFDEPTH_Z</th><th>GALDEPTH_G</th><th>GALDEPTH_R</th><th>GALDEPTH_Z</th><th>FRACDEV</th><th>FRACDEV_IVAR</th><th>SHAPEDEV_R</th><th>SHAPEDEV_R_IVAR</th><th>SHAPEDEV_E1</th><th>SHAPEDEV_E1_IVAR</th><th>SHAPEDEV_E2</th><th>SHAPEDEV_E2_IVAR</th><th>SHAPEEXP_R</th><th>SHAPEEXP_R_IVAR</th><th>SHAPEEXP_E1</th><th>SHAPEEXP_E1_IVAR</th><th>SHAPEEXP_E2</th><th>SHAPEEXP_E2_IVAR</th><th>SUBPRIORITY</th><th>PHOTSYS</th><th>TARGETID</th><th>DESI_TARGET</th><th>BGS_TARGET</th><th>MWS_TARGET</th><th>HPXPIXEL</th></tr></thead>\n",
       "<thead><tr><th>int32</th><th>int32</th><th>str8</th><th>int32</th><th>str4</th><th>float64</th><th>float64</th><th>float32</th><th>float32</th><th>float32</th><th>float32</th><th>float32</th><th>float32</th><th>float32</th><th>float32</th><th>float32</th><th>float32</th><th>float32</th><th>float32</th><th>float32</th><th>float32</th><th>float32</th><th>float32</th><th>float32</th><th>float32</th><th>float32</th><th>float32</th><th>float32</th><th>float32</th><th>float32</th><th>float32</th><th>int16</th><th>int16</th><th>int16</th><th>float32</th><th>float32</th><th>float32</th><th>int16</th><th>int16</th><th>int16</th><th>float32</th><th>float32</th><th>float32</th><th>float32</th><th>float32</th><th>float32</th><th>float32</th><th>float32</th><th>float32</th><th>float32</th><th>float32</th><th>float32</th><th>float32</th><th>float32</th><th>float32</th><th>float32</th><th>float32</th><th>float32</th><th>float32</th><th>float32</th><th>float32</th><th>str1</th><th>int64</th><th>int64</th><th>int64</th><th>int64</th><th>int64</th></tr></thead>\n",
       "<tr><td>6000</td><td>492431</td><td>1475p292</td><td>5</td><td>DEV</td><td>147.571134354</td><td>29.2325914458</td><td>8.30913e+10</td><td>1.3693e+11</td><td>10369.8 .. 12692.1</td><td>7.97411</td><td>23.2207</td><td>0.0</td><td>42.7246</td><td>30.7484</td><td>8.49282</td><td>470.423</td><td>36.9622</td><td>21.4089</td><td>0.0</td><td>2.02367</td><td>0.388105</td><td>0.000992943</td><td>2.36815e-05</td><td>0.945964</td><td>0.963272</td><td>0.979287</td><td>0.996825</td><td>0.998049</td><td>0.999584</td><td>0.999843</td><td>1</td><td>1</td><td>0</td><td>0.0</td><td>0.0</td><td>0.0</td><td>0</td><td>0</td><td>0</td><td>245.78</td><td>144.602</td><td>0.0</td><td>155.891</td><td>93.5388</td><td>0.0</td><td>1.0</td><td>1.0</td><td>1.48173</td><td>1820.84</td><td>-0.0775595</td><td>4597.68</td><td>0.0790266</td><td>4814.47</td><td>0.0</td><td>0.0</td><td>0.0</td><td>0.0</td><td>0.0</td><td>0.0</td><td>0.436934</td><td>N</td><td>26390344471937029</td><td>1152921504606846976</td><td>131074</td><td>0</td><td>5288</td></tr>\n",
       "<tr><td>6000</td><td>492431</td><td>1475p292</td><td>7</td><td>EXP</td><td>147.47009862</td><td>29.2339058275</td><td>1.21617e+11</td><td>4.44768e+11</td><td>16278.3 .. 24308.1</td><td>2451.18</td><td>4161.93</td><td>0.0</td><td>1272.62</td><td>684.487</td><td>68.9148</td><td>413.124</td><td>0.00316357</td><td>0.000614313</td><td>0.0</td><td>2.69431</td><td>0.513504</td><td>0.00106597</td><td>2.33093e-05</td><td>0.938881</td><td>0.958407</td><td>0.976517</td><td>0.996396</td><td>0.997785</td><td>0.999527</td><td>0.999821</td><td>1</td><td>1</td><td>0</td><td>0.0</td><td>0.0</td><td>0.0</td><td>2</td><td>2</td><td>0</td><td>0.0</td><td>0.0</td><td>0.0</td><td>0.0</td><td>0.0</td><td>0.0</td><td>0.0</td><td>0.0</td><td>0.0</td><td>0.0</td><td>0.0</td><td>0.0</td><td>0.0</td><td>0.0</td><td>0.85426</td><td>31973.0</td><td>-0.203119</td><td>32821.3</td><td>0.00118753</td><td>26353.6</td><td>0.419708</td><td>N</td><td>26390344471937031</td><td>1152921504606846976</td><td>131074</td><td>0</td><td>5288</td></tr>\n",
       "<tr><td>6000</td><td>492431</td><td>1475p292</td><td>8</td><td>EXP</td><td>147.444876679</td><td>29.2348525267</td><td>1.24563e+11</td><td>3.29213e+11</td><td>15406.5 .. 21239.2</td><td>1869.98</td><td>2717.11</td><td>0.0</td><td>834.151</td><td>455.018</td><td>48.9125</td><td>-378.272</td><td>0.00471102</td><td>0.00120593</td><td>0.0</td><td>2.73013</td><td>0.509445</td><td>0.00115963</td><td>2.52313e-05</td><td>0.937909</td><td>0.957738</td><td>0.976136</td><td>0.996337</td><td>0.997749</td><td>0.999519</td><td>0.999819</td><td>1</td><td>1</td><td>0</td><td>0.000695014</td><td>0.000829101</td><td>0.0</td><td>2</td><td>2</td><td>0</td><td>0.0</td><td>0.0</td><td>0.0</td><td>0.0</td><td>0.0</td><td>0.0</td><td>0.0</td><td>0.0</td><td>0.0</td><td>0.0</td><td>0.0</td><td>0.0</td><td>0.0</td><td>0.0</td><td>0.750187</td><td>29231.1</td><td>-0.146507</td><td>16446.7</td><td>0.138534</td><td>20067.2</td><td>0.341805</td><td>N</td><td>26390344471937032</td><td>1152921504606846976</td><td>131074</td><td>0</td><td>5288</td></tr>\n",
       "<tr><td>6000</td><td>492431</td><td>1475p292</td><td>10</td><td>EXP</td><td>147.444425657</td><td>29.2347231365</td><td>1.8803e+08</td><td>1.1916e+09</td><td>331.369 .. 52.1284</td><td>38.5262</td><td>66.2706</td><td>0.0</td><td>10.3198</td><td>-15.7462</td><td>196.401</td><td>1684.21</td><td>0.691063</td><td>0.394265</td><td>0.0</td><td>0.282095</td><td>0.0637983</td><td>0.000228606</td><td>8.38947e-06</td><td>0.937921</td><td>0.957747</td><td>0.976141</td><td>0.996338</td><td>0.997749</td><td>0.99952</td><td>0.999819</td><td>1</td><td>1</td><td>0</td><td>150.966</td><td>126.579</td><td>0.0</td><td>2</td><td>2</td><td>0</td><td>0.0</td><td>0.0</td><td>0.0</td><td>0.0</td><td>0.0</td><td>0.0</td><td>0.0</td><td>0.0</td><td>0.0</td><td>0.0</td><td>0.0</td><td>0.0</td><td>0.0</td><td>0.0</td><td>15.0147</td><td>14.0922</td><td>-0.382303</td><td>6248.46</td><td>0.17441</td><td>3618.7</td><td>0.985431</td><td>N</td><td>26390344471937034</td><td>1152921504606846976</td><td>131074</td><td>0</td><td>5288</td></tr>\n",
       "<tr><td>6000</td><td>492431</td><td>1475p292</td><td>15</td><td>REX</td><td>147.508608773</td><td>29.2324340078</td><td>8.00277e+10</td><td>1.19672e+11</td><td>10565.4 .. 12623.5</td><td>7.42092</td><td>17.092</td><td>0.0</td><td>45.3917</td><td>41.4823</td><td>201.799</td><td>-35.1039</td><td>59.8826</td><td>37.0304</td><td>0.0</td><td>2.62357</td><td>0.495141</td><td>0.00120417</td><td>2.66632e-05</td><td>0.941166</td><td>0.959978</td><td>0.977412</td><td>0.996535</td><td>0.99787</td><td>0.999545</td><td>0.999828</td><td>1</td><td>1</td><td>0</td><td>0.0</td><td>0.0</td><td>0.0</td><td>0</td><td>0</td><td>0</td><td>245.78</td><td>144.602</td><td>0.0</td><td>155.891</td><td>93.5388</td><td>0.0</td><td>0.0</td><td>0.0</td><td>0.0</td><td>0.0</td><td>0.0</td><td>0.0</td><td>0.0</td><td>0.0</td><td>0.852315</td><td>9485.35</td><td>0.0</td><td>0.0</td><td>0.0</td><td>0.0</td><td>0.460817</td><td>N</td><td>26390344471937039</td><td>1152921504606846976</td><td>131074</td><td>0</td><td>5288</td></tr>\n",
       "<tr><td>6000</td><td>492431</td><td>1475p292</td><td>47</td><td>COMP</td><td>147.48878798</td><td>29.237059988</td><td>5.75113e+10</td><td>6.4055e+10</td><td>8783.04 .. 13081.9</td><td>109.432</td><td>154.823</td><td>0.0</td><td>480.923</td><td>254.51</td><td>137.215</td><td>178.051</td><td>0.563443</td><td>0.271883</td><td>0.0</td><td>2.03525</td><td>0.393372</td><td>0.000967826</td><td>2.24674e-05</td><td>0.939633</td><td>0.958924</td><td>0.976812</td><td>0.996442</td><td>0.997813</td><td>0.999533</td><td>0.999824</td><td>1</td><td>1</td><td>0</td><td>5.52727e-05</td><td>6.70682e-05</td><td>0.0</td><td>2</td><td>2</td><td>0</td><td>0.0</td><td>0.0</td><td>0.0</td><td>0.0</td><td>0.0</td><td>0.0</td><td>0.554079</td><td>9550.25</td><td>1.65947</td><td>283.484</td><td>0.0797285</td><td>11219.0</td><td>0.0338462</td><td>10241.0</td><td>1.51823</td><td>3388.58</td><td>-0.280608</td><td>8379.94</td><td>0.0172428</td><td>14580.3</td><td>0.632156</td><td>N</td><td>26390344471937071</td><td>1152921504606846976</td><td>131074</td><td>0</td><td>5288</td></tr>\n",
       "<tr><td>6000</td><td>492431</td><td>1475p292</td><td>57</td><td>REX</td><td>147.644792564</td><td>29.2373286302</td><td>7.41644e+10</td><td>1.01258e+11</td><td>8775.87 .. 10410.0</td><td>5.2103</td><td>14.1033</td><td>0.0</td><td>37.6317</td><td>29.3716</td><td>56.9578</td><td>111.401</td><td>74.8196</td><td>43.2903</td><td>0.0</td><td>2.64568</td><td>0.476272</td><td>0.0008645</td><td>2.09512e-05</td><td>0.950715</td><td>0.966528</td><td>0.981137</td><td>0.997111</td><td>0.998225</td><td>0.999621</td><td>0.999857</td><td>1</td><td>1</td><td>0</td><td>0.000224916</td><td>5.01958e-05</td><td>0.0</td><td>0</td><td>0</td><td>0</td><td>245.78</td><td>144.602</td><td>0.0</td><td>155.891</td><td>93.5388</td><td>0.0</td><td>0.0</td><td>0.0</td><td>0.0</td><td>0.0</td><td>0.0</td><td>0.0</td><td>0.0</td><td>0.0</td><td>0.731063</td><td>8074.81</td><td>0.0</td><td>0.0</td><td>0.0</td><td>0.0</td><td>0.413694</td><td>N</td><td>26390344471937081</td><td>1152921504606846976</td><td>65537</td><td>0</td><td>5288</td></tr>\n",
       "<tr><td>6000</td><td>492431</td><td>1475p292</td><td>80</td><td>DEV</td><td>147.430745304</td><td>29.2393831449</td><td>1.38983e+11</td><td>3.31802e+11</td><td>15288.6 .. 16294.3</td><td>5.74876</td><td>17.2057</td><td>0.0</td><td>29.9504</td><td>19.0085</td><td>-17.6445</td><td>356.866</td><td>86.9623</td><td>47.3217</td><td>0.0</td><td>2.63252</td><td>0.486702</td><td>0.00107664</td><td>2.36806e-05</td><td>0.937927</td><td>0.957751</td><td>0.976143</td><td>0.996338</td><td>0.997749</td><td>0.99952</td><td>0.999819</td><td>1</td><td>1</td><td>0</td><td>9.66263e-05</td><td>9.96032e-05</td><td>0.0</td><td>0</td><td>0</td><td>0</td><td>245.78</td><td>144.602</td><td>0.0</td><td>155.891</td><td>93.5388</td><td>0.0</td><td>1.0</td><td>1.0</td><td>0.575637</td><td>5419.9</td><td>-0.376198</td><td>2385.24</td><td>0.0235295</td><td>1663.78</td><td>0.0</td><td>0.0</td><td>0.0</td><td>0.0</td><td>0.0</td><td>0.0</td><td>0.347301</td><td>N</td><td>26390344471937104</td><td>1152921504606846976</td><td>131074</td><td>0</td><td>5288</td></tr>\n",
       "<tr><td>6000</td><td>492431</td><td>1475p292</td><td>98</td><td>DEV</td><td>147.449696463</td><td>29.2410744775</td><td>1.58578e+11</td><td>2.95472e+11</td><td>18298.0 .. 20547.0</td><td>7.67184</td><td>24.255</td><td>0.0</td><td>58.0855</td><td>42.4093</td><td>6.29241</td><td>-58.5772</td><td>56.5656</td><td>30.5319</td><td>0.0</td><td>2.39349</td><td>0.46146</td><td>0.00107782</td><td>2.39817e-05</td><td>0.937702</td><td>0.957596</td><td>0.976055</td><td>0.996324</td><td>0.997741</td><td>0.999518</td><td>0.999818</td><td>1</td><td>1</td><td>0</td><td>0.0</td><td>0.0</td><td>0.0</td><td>0</td><td>0</td><td>0</td><td>245.78</td><td>144.602</td><td>0.0</td><td>155.891</td><td>93.5388</td><td>0.0</td><td>1.0</td><td>1.0</td><td>0.830104</td><td>5576.03</td><td>-0.121208</td><td>6678.82</td><td>0.00366867</td><td>3154.37</td><td>0.0</td><td>0.0</td><td>0.0</td><td>0.0</td><td>0.0</td><td>0.0</td><td>0.027292</td><td>N</td><td>26390344471937122</td><td>1152921504606846976</td><td>131074</td><td>0</td><td>5288</td></tr>\n",
       "<tr><td>6000</td><td>492431</td><td>1475p292</td><td>112</td><td>DEV</td><td>147.469274647</td><td>29.2417864009</td><td>7.74322e+10</td><td>1.19203e+11</td><td>6797.29 .. 7245.33</td><td>3.64376</td><td>10.2042</td><td>0.0</td><td>14.456</td><td>6.57606</td><td>39.1471</td><td>222.108</td><td>103.928</td><td>58.7599</td><td>0.0</td><td>2.72338</td><td>0.511792</td><td>0.00114506</td><td>2.40787e-05</td><td>0.938587</td><td>0.958205</td><td>0.976402</td><td>0.996378</td><td>0.997774</td><td>0.999525</td><td>0.999821</td><td>1</td><td>1</td><td>0</td><td>2.09337e-05</td><td>1.5347e-05</td><td>0.0</td><td>0</td><td>0</td><td>0</td><td>245.78</td><td>144.602</td><td>0.0</td><td>155.891</td><td>93.5388</td><td>0.0</td><td>1.0</td><td>1.0</td><td>0.5101</td><td>2650.48</td><td>0.0521194</td><td>498.554</td><td>-0.45597</td><td>535.21</td><td>0.0</td><td>0.0</td><td>0.0</td><td>0.0</td><td>0.0</td><td>0.0</td><td>0.296651</td><td>N</td><td>26390344471937136</td><td>1152921504606846976</td><td>65537</td><td>0</td><td>5288</td></tr>\n",
       "</table>"
      ],
      "text/plain": [
       "<Table length=10>\n",
       "RELEASE BRICKID BRICKNAME BRICK_OBJID ... BGS_TARGET MWS_TARGET HPXPIXEL\n",
       " int32   int32     str8      int32    ...   int64      int64     int64  \n",
       "------- ------- --------- ----------- ... ---------- ---------- --------\n",
       "   6000  492431  1475p292           5 ...     131074          0     5288\n",
       "   6000  492431  1475p292           7 ...     131074          0     5288\n",
       "   6000  492431  1475p292           8 ...     131074          0     5288\n",
       "   6000  492431  1475p292          10 ...     131074          0     5288\n",
       "   6000  492431  1475p292          15 ...     131074          0     5288\n",
       "   6000  492431  1475p292          47 ...     131074          0     5288\n",
       "   6000  492431  1475p292          57 ...      65537          0     5288\n",
       "   6000  492431  1475p292          80 ...     131074          0     5288\n",
       "   6000  492431  1475p292          98 ...     131074          0     5288\n",
       "   6000  492431  1475p292         112 ...      65537          0     5288"
      ]
     },
     "execution_count": 31,
     "metadata": {},
     "output_type": "execute_result"
    }
   ],
   "source": [
    "targetdata[:10]"
   ]
  },
  {
   "cell_type": "code",
   "execution_count": 32,
   "metadata": {},
   "outputs": [
    {
     "ename": "NameError",
     "evalue": "name 'np' is not defined",
     "output_type": "error",
     "traceback": [
      "\u001b[0;31m---------------------------------------------------------------------------\u001b[0m",
      "\u001b[0;31mNameError\u001b[0m                                 Traceback (most recent call last)",
      "\u001b[0;32m<ipython-input-32-0bfaaf3312ca>\u001b[0m in \u001b[0;36m<module>\u001b[0;34m()\u001b[0m\n\u001b[0;32m----> 1\u001b[0;31m \u001b[0mnp\u001b[0m\u001b[0;34m.\u001b[0m\u001b[0mcount_nonzero\u001b[0m\u001b[0;34m(\u001b[0m\u001b[0mtargetdata\u001b[0m\u001b[0;34m[\u001b[0m\u001b[0;34m'MWS_TARGET'\u001b[0m\u001b[0;34m]\u001b[0m\u001b[0;34m!=\u001b[0m\u001b[0;36m0\u001b[0m\u001b[0;34m)\u001b[0m\u001b[0;34m\u001b[0m\u001b[0m\n\u001b[0m",
      "\u001b[0;31mNameError\u001b[0m: name 'np' is not defined"
     ]
    }
   ],
   "source": [
    "np.count_nonzero(targetdata['MWS_TARGET']!=0)"
   ]
  },
  {
   "cell_type": "code",
   "execution_count": null,
   "metadata": {},
   "outputs": [],
   "source": []
  }
 ],
 "metadata": {
  "kernelspec": {
   "display_name": "DESI master",
   "language": "python",
   "name": "desi-master"
  },
  "language_info": {
   "codemirror_mode": {
    "name": "ipython",
    "version": 3
   },
   "file_extension": ".py",
   "mimetype": "text/x-python",
   "name": "python",
   "nbconvert_exporter": "python",
   "pygments_lexer": "ipython3",
   "version": "3.6.4"
  }
 },
 "nbformat": 4,
 "nbformat_minor": 2
}
