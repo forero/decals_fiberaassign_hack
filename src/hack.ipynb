{
 "cells": [
  {
   "cell_type": "code",
   "execution_count": 1,
   "metadata": {},
   "outputs": [],
   "source": [
    "DECALS_PATH = '/global/project/projectdirs/cosmo/data/legacysurvey/dr6/'"
   ]
  },
  {
   "cell_type": "code",
   "execution_count": 2,
   "metadata": {},
   "outputs": [
    {
     "name": "stdout",
     "output_type": "stream",
     "text": [
      "hack.ipynb  main.py\r\n"
     ]
    }
   ],
   "source": [
    "!ls"
   ]
  },
  {
   "cell_type": "code",
   "execution_count": 3,
   "metadata": {},
   "outputs": [
    {
     "name": "stdout",
     "output_type": "stream",
     "text": [
      "usage: select_targets [-h] [-c] [-m MASK] [--sandbox] [--FoMthresh FOMTHRESH]\r\n",
      "                      [--qsoselection {colorcuts,randomforest}]\r\n",
      "                      [--Method {XD,RF_photo,RF_spectro}] [--numproc NUMPROC]\r\n",
      "                      src dest\r\n",
      "select_targets: error: the following arguments are required: src, dest\r\n"
     ]
    }
   ],
   "source": [
    "! select_targets"
   ]
  },
  {
   "cell_type": "code",
   "execution_count": null,
   "metadata": {},
   "outputs": [],
   "source": []
  }
 ],
 "metadata": {
  "kernelspec": {
   "display_name": "DESI master",
   "language": "python",
   "name": "desi-master"
  },
  "language_info": {
   "codemirror_mode": {
    "name": "ipython",
    "version": 3
   },
   "file_extension": ".py",
   "mimetype": "text/x-python",
   "name": "python",
   "nbconvert_exporter": "python",
   "pygments_lexer": "ipython3",
   "version": "3.6.4"
  }
 },
 "nbformat": 4,
 "nbformat_minor": 2
}
